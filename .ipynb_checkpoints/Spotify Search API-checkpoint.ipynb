{
 "cells": [
  {
   "cell_type": "code",
   "execution_count": 25,
   "metadata": {},
   "outputs": [],
   "source": [
    "# Setting up Spotify API with API keys\n",
    "import spotipy\n",
    "from spotipy.oauth2 import SpotifyClientCredentials\n",
    "client_id = \"de4f5d2b2c014e8da7c01e904d54f177\"\n",
    "client_secret = \"f6fcd223a5cc41409c6e388c226b6752\"\n",
    "credentials = SpotifyClientCredentials(client_id = client_id, client_secret = client_secret)\n",
    "sp = spotipy.Spotify(client_credentials_manager=credentials)"
   ]
  },
  {
   "cell_type": "code",
   "execution_count": null,
   "metadata": {},
   "outputs": [
    {
     "name": "stdout",
     "output_type": "stream",
     "text": [
      "Enter a song title or type 'quit' to quit: Happier\n",
      "1 : Happier\n",
      "Marshmello\n",
      "Bastille\n",
      "2 : Happier\n",
      "Ed Sheeran\n",
      "3 : Happier\n",
      "Kidz Bop Kids\n",
      "4 : Happier - Recorded At Sound Stage Studios Nashville\n",
      "Keith Urban\n",
      "5 : Happier - Acoustic\n",
      "Ed Sheeran\n",
      "Please enter the number of the song you want: 1\n",
      "Song name: Happier\n",
      "Album: Happier\n",
      "Artists:\n",
      "Marshmello\n",
      "Bastille\n",
      "URL: https://open.spotify.com/track/2dpaYNEQHiRxtZbfNsse99\n"
     ]
    }
   ],
   "source": [
    "# Going to run the program until the user enters 'quit'\n",
    "while True:\n",
    "    song = input(\"Enter a song title or type 'quit' to quit: \")\n",
    "    # Check to see if the user entered 'quit'\n",
    "    if song == 'quit': \n",
    "        print(\"Program quit\")\n",
    "        break\n",
    "    # Run of the actual program\n",
    "    else:\n",
    "        result = sp.search(song) # Inital call to search to song based on what they entered\n",
    "        count = 1\n",
    "        for track in result[\"tracks\"][\"items\"][:5]: # Printing the songs from the search\n",
    "            print(str(count), \":\", track[\"name\"])\n",
    "            for artist in track[\"artists\"]:\n",
    "                print(artist[\"name\"])\n",
    "            count = count + 1\n",
    "        num = int(input(\"Please enter the number of the song you want: \")) # Where the user selects the song that they want to know more about\n",
    "        choice = result[\"tracks\"][\"items\"][num-1] # Selecting the song from the inital search\n",
    "        song_id = choice[\"id\"]\n",
    "        search_song = sp.track(song_id) # Searching for information about the specific song\n",
    "        print(\"Song name:\", search_song[\"name\"]) # Printing all the information about the specific song\n",
    "        print(\"Album:\", search_song[\"album\"][\"name\"])\n",
    "        print(\"Artists:\")\n",
    "        for artist in search_song[\"artists\"]:\n",
    "            print(artist[\"name\"])\n",
    "        print(\"URL:\", search_song[\"external_urls\"][\"spotify\"])"
   ]
  },
  {
   "cell_type": "code",
   "execution_count": null,
   "metadata": {},
   "outputs": [],
   "source": []
  }
 ],
 "metadata": {
  "kernelspec": {
   "display_name": "Python 3",
   "language": "python",
   "name": "python3"
  },
  "language_info": {
   "codemirror_mode": {
    "name": "ipython",
    "version": 3
   },
   "file_extension": ".py",
   "mimetype": "text/x-python",
   "name": "python",
   "nbconvert_exporter": "python",
   "pygments_lexer": "ipython3",
   "version": "3.6.6"
  }
 },
 "nbformat": 4,
 "nbformat_minor": 2
}
